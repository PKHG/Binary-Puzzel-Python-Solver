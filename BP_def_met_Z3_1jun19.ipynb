{
 "cells": [
  {
   "cell_type": "markdown",
   "metadata": {},
   "source": [
    "# old puzzel data last year"
   ]
  },
  {
   "cell_type": "code",
   "execution_count": 1,
   "metadata": {},
   "outputs": [
    {
     "name": "stdout",
     "output_type": "stream",
     "text": [
      "contains converToLonSrt\n",
      "\n"
     ]
    }
   ],
   "source": [
    "import puzzelsData as BPD"
   ]
  },
  {
   "cell_type": "code",
   "execution_count": 2,
   "metadata": {},
   "outputs": [
    {
     "data": {
      "text/plain": [
       "['L17',\n",
       " 'P6x6Mor_1',\n",
       " 'P6x6ma_1',\n",
       " 'Tubantia8aug',\n",
       " 'convertToLStr',\n",
       " 'm1_8x8',\n",
       " 'needezeniet',\n",
       " 'normal8',\n",
       " 'oplossingvanneedezeniet',\n",
       " 'p4x4moeilijk',\n",
       " 'tub190918',\n",
       " 'tub6sol',\n",
       " 'tubantia11apr18',\n",
       " 'tubantia15aug',\n",
       " 'tubantia18juli',\n",
       " 'tubantia20juni',\n",
       " 'tubantia22aug',\n",
       " 'tubantia22augNG',\n",
       " 'tubantia25juli',\n",
       " 'tubantia27_6',\n",
       " 'tubantia28aug',\n",
       " 'tubantia2aug',\n",
       " 'tubantia_11juli',\n",
       " 'zes_1',\n",
       " 'zes_1_test']"
      ]
     },
     "execution_count": 2,
     "metadata": {},
     "output_type": "execute_result"
    }
   ],
   "source": [
    "res = [ el for el in dir(BPD) if not el.startswith('__')]\n",
    "res\n"
   ]
  },
  {
   "cell_type": "code",
   "execution_count": 3,
   "metadata": {},
   "outputs": [
    {
     "data": {
      "text/plain": [
       "'..10......00...0........0.11..1...........0...01.....0...1.10....0.......1...........0..1..0.....1..'"
      ]
     },
     "execution_count": 3,
     "metadata": {},
     "output_type": "execute_result"
    }
   ],
   "source": [
    "TestBP = BPD.convertToLStr(BPD.tubantia20juni)\n",
    "TestBP"
   ]
  },
  {
   "cell_type": "code",
   "execution_count": 4,
   "metadata": {},
   "outputs": [
    {
     "data": {
      "text/plain": [
       "['1..1..11..',\n",
       " '..........',\n",
       " '0.11.11.0.',\n",
       " '0.1...0..1',\n",
       " '...0......',\n",
       " '1.1.......',\n",
       " '.0........',\n",
       " '....11..0.',\n",
       " '11..11...0',\n",
       " '.......1..']"
      ]
     },
     "execution_count": 4,
     "metadata": {},
     "output_type": "execute_result"
    }
   ],
   "source": [
    "BPD.tubantia15aug #from last year ..."
   ]
  },
  {
   "cell_type": "markdown",
   "metadata": {},
   "source": [
    "# Tubantia BP \n",
    "try to solve with Z3\n",
    "\n",
    "https://pclubiiti.github.io/blog/Inroduction-toSAT-solving/\n",
    "\n",
    "```\n",
    "Each binary puzzle should be solved according to the following rules:\n",
    "\n",
    "Each box should contain a zero or a one.\n",
    "No more than two similar numbers next to or below each other are allowed.\n",
    "Each row and each column should contain an equal number of zeros and ones.\n",
    "Each row is unique and each column is unique. \n",
    "\n",
    "PKHG>not all puzzels of my local newspaper obeyed the next info:\n",
    "\n",
    "Each binary puzzle does only have one solution. \n",
    "\n",
    "PKHG: is this always true if there is precisely ONE solution??\n",
    "You can always find this solution without guessing. \n",
    "\n",
    "```\n",
    "From here the commands in BPsolverZ3 ... are used ;-)"
   ]
  },
  {
   "cell_type": "code",
   "execution_count": 5,
   "metadata": {},
   "outputs": [],
   "source": [
    "from z3 import *"
   ]
  },
  {
   "cell_type": "markdown",
   "metadata": {},
   "source": [
    "```\n",
    "rr = BPD.tubantia15aug\n",
    "type(rr) == type([1])\n",
    "```\n",
    "problem in the def?"
   ]
  },
  {
   "cell_type": "code",
   "execution_count": 6,
   "metadata": {},
   "outputs": [],
   "source": [
    "def BPsolverZ3(puzzel, tussenresultaat = True):\n",
    "    \"\"\" binary puzzel solver met Z3 \"\"\"\n",
    "    print(\"taken from \\n\\\n",
    "          https://pclubiiti.github.io/blog/Inroduction-toSAT-solving/\")\n",
    "    size = 10 \n",
    "    \"\"\" gives error???\n",
    "    if type(puzzel) == type([1]):\n",
    "        try:\n",
    "            puzzel = convertToLStr(puzzel)\n",
    "            from math import sqrt\n",
    "            size = sqrt(len(puzzel))\n",
    "            if not type(size) == type(1):\n",
    "                return ('given puzzel not square, puzzel')\n",
    "        except:\n",
    "            return (\"input not a list of strings, try other input puzzel\")\n",
    "    #size = 10 #voorlopig slechts 10 x 10\n",
    "    return \"L16\"\n",
    "    \"\"\"\n",
    "    puzzel = [el for el in filter(lambda x:x in '01.', puzzel)]\n",
    "    if tussenresultaat:\n",
    "        print(\"first row =\", puzzel[0:9], \"\\ntotal = \" ,\n",
    "              len(puzzel))\n",
    "    #PKHG>DBG OK return was for debugging\n",
    "    vs = [(r,c) for r in range(size) for c in range(size)]\n",
    "    v  = [[z3.BitVec('v%d%d' % (r,c),8)  for c in range(size)] for r in range(size)]\n",
    "    s = z3.Solver()\n",
    "    \n",
    "    #convert \".\" to not yet known int\n",
    "    for ((r,c), val) in zip(vs, puzzel):\n",
    "        if val == '.':  \n",
    "            s.add(0 <= v[r][c], v[r][c] <= 1)\n",
    "        else:\n",
    "            s.add(v[r][c] == (int(val)))\n",
    "            \n",
    "    #helpers for rows and columns  \n",
    "    #see description from the given link\n",
    "    \n",
    "    def row(n):\n",
    "        return [(n, i) for i in range(size)]\n",
    "    def col(n):\n",
    "        return [(i, n) for i in range(size)]\n",
    "\n",
    "    for i in range(size):\n",
    "        s.add(z3.Sum([v[r][c] for r,c in row(i)]) == (size/2))\n",
    "        s.add(z3.Sum([v[r][c] for r,c in col(i)]) == (size/2))\n",
    "        \n",
    "    def row3(n,m):   return [(n, i) for i in range(m,m+3)]\n",
    "    def col3(n,m):   return [(i, n) for i in range(m,m+3)]\n",
    "    \n",
    "    for i in range(size):\n",
    "        for j in range(size - 2):\n",
    "            s.add(z3.Sum([v[r][c] for r,c in row3(i,j)]) <= 2)\n",
    "            s.add(z3.Sum([v[r][c] for r,c in row3(i,j)]) >= 1)\n",
    "            s.add(z3.Sum([v[r][c] for r,c in col3(i,j)]) <= 2)\n",
    "            s.add(z3.Sum([v[r][c] for r,c in col3(i,j)]) >= 1)\n",
    "    #print(\"L37\") dbg info\n",
    "    s.add(z3.Distinct([z3.Concat([v[r][c] for r,c in row(i)]) for i in range(size)]))\n",
    "    s.add(z3.Distinct([z3.Concat([v[r][c] for r,c in col(i)]) for i in range(size)]))\n",
    "    #print(\"L40\")\n",
    "    print(s.check())\n",
    "    if s.check() == \"unsat\":\n",
    "        #print(\"assertions = \", s.assertions())\n",
    "        #return s\n",
    "        return(\"geen oplossing (eendudig?) mogelijk\")   \n",
    "    m  = s.model()\n",
    "    sol = [[m[v[r][c]] for c in range(size)] for r in range(size)]\n",
    "\n",
    "    gg =  []\n",
    "    for i in range(10):\n",
    "        rij = []\n",
    "        for el in vs[0:10]:\n",
    "            rij.append(sol[i][el[1]])\n",
    "        gg.append(rij)\n",
    "    print(\"the solution became = \\n\")\n",
    "    for i in range(size):\n",
    "        print(i, gg[i])\n",
    "    \n",
    "    #return s"
   ]
  },
  {
   "cell_type": "code",
   "execution_count": 7,
   "metadata": {},
   "outputs": [
    {
     "name": "stdout",
     "output_type": "stream",
     "text": [
      "taken from \n",
      "          https://pclubiiti.github.io/blog/Inroduction-toSAT-solving/\n",
      "first row = ['.', '.', '1', '0', '.', '.', '.', '.', '.'] \n",
      "total =  100\n",
      "sat\n",
      "the solution became = \n",
      "\n",
      "0 [1, 0, 1, 0, 1, 1, 0, 0, 1, 0]\n",
      "1 [0, 0, 1, 0, 1, 0, 1, 0, 1, 1]\n",
      "2 [0, 1, 0, 1, 0, 0, 1, 1, 0, 1]\n",
      "3 [1, 0, 1, 1, 0, 1, 0, 0, 1, 0]\n",
      "4 [1, 1, 0, 0, 1, 1, 0, 1, 0, 0]\n",
      "5 [0, 1, 0, 0, 1, 0, 1, 1, 0, 1]\n",
      "6 [0, 0, 1, 1, 0, 0, 1, 0, 1, 1]\n",
      "7 [1, 1, 0, 1, 0, 1, 0, 1, 0, 0]\n",
      "8 [1, 1, 0, 0, 1, 0, 1, 0, 1, 0]\n",
      "9 [0, 0, 1, 1, 0, 1, 0, 1, 0, 1]\n"
     ]
    }
   ],
   "source": [
    "BPsolverZ3(TestBP)"
   ]
  },
  {
   "cell_type": "code",
   "execution_count": 8,
   "metadata": {},
   "outputs": [
    {
     "data": {
      "text/plain": [
       "['1..1..11..',\n",
       " '..........',\n",
       " '0.11.11.0.',\n",
       " '0.1...0..1',\n",
       " '...0......',\n",
       " '1.1.......',\n",
       " '.0........',\n",
       " '....11..0.',\n",
       " '11..11...0',\n",
       " '.......1..']"
      ]
     },
     "execution_count": 8,
     "metadata": {},
     "output_type": "execute_result"
    }
   ],
   "source": [
    "BPD.tubantia15aug"
   ]
  },
  {
   "cell_type": "markdown",
   "metadata": {},
   "source": [
    "# www https://ericpony.github.io/z3py-tutorial/guide-examples.htm\n",
    "\n",
    "Bevat meer, maar ook de BP-solver werkwijze\n",
    "\n",
    "# even een check of z3 er is"
   ]
  },
  {
   "cell_type": "markdown",
   "metadata": {},
   "source": [
    "x = Int('x')\n",
    "y = Int('y')\n",
    "print(simplify(x + y + 2*x + 3))\n",
    "print(simplify(x < y + x + 2))\n",
    "print(simplify(And(x + 1 >= 3, x**2 + x**2 + y**2 + 2 >= 5)))"
   ]
  },
  {
   "cell_type": "markdown",
   "metadata": {},
   "source": [
    "\n",
    "x<sup>2</sup> + y<sup>2</sup> &ge; 1"
   ]
  },
  {
   "cell_type": "code",
   "execution_count": 9,
   "metadata": {},
   "outputs": [
    {
     "data": {
      "text/plain": [
       "'OK'"
      ]
     },
     "execution_count": 9,
     "metadata": {},
     "output_type": "execute_result"
    }
   ],
   "source": [
    "'OK'"
   ]
  },
  {
   "cell_type": "code",
   "execution_count": null,
   "metadata": {},
   "outputs": [],
   "source": []
  }
 ],
 "metadata": {
  "kernelspec": {
   "display_name": "Python 3",
   "language": "python",
   "name": "python3"
  },
  "language_info": {
   "codemirror_mode": {
    "name": "ipython",
    "version": 3
   },
   "file_extension": ".py",
   "mimetype": "text/x-python",
   "name": "python",
   "nbconvert_exporter": "python",
   "pygments_lexer": "ipython3",
   "version": "3.7.3"
  }
 },
 "nbformat": 4,
 "nbformat_minor": 2
}
